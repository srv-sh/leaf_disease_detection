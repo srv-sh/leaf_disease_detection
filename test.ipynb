{
 "cells": [
  {
   "cell_type": "code",
   "execution_count": 1,
   "metadata": {},
   "outputs": [
    {
     "name": "stdout",
     "output_type": "stream",
     "text": [
      "Requirement already satisfied: roboflow in ./leaf_env/lib/python3.11/site-packages (1.1.54)\n",
      "Requirement already satisfied: certifi in ./leaf_env/lib/python3.11/site-packages (from roboflow) (2025.1.31)\n",
      "Requirement already satisfied: idna==3.7 in ./leaf_env/lib/python3.11/site-packages (from roboflow) (3.7)\n",
      "Requirement already satisfied: cycler in ./leaf_env/lib/python3.11/site-packages (from roboflow) (0.12.1)\n",
      "Requirement already satisfied: kiwisolver>=1.3.1 in ./leaf_env/lib/python3.11/site-packages (from roboflow) (1.4.8)\n",
      "Requirement already satisfied: matplotlib in ./leaf_env/lib/python3.11/site-packages (from roboflow) (3.10.0)\n",
      "Requirement already satisfied: numpy>=1.18.5 in ./leaf_env/lib/python3.11/site-packages (from roboflow) (2.2.3)\n",
      "Requirement already satisfied: opencv-python-headless==4.10.0.84 in ./leaf_env/lib/python3.11/site-packages (from roboflow) (4.10.0.84)\n",
      "Requirement already satisfied: Pillow>=7.1.2 in ./leaf_env/lib/python3.11/site-packages (from roboflow) (11.1.0)\n",
      "Requirement already satisfied: python-dateutil in ./leaf_env/lib/python3.11/site-packages (from roboflow) (2.9.0.post0)\n",
      "Requirement already satisfied: python-dotenv in ./leaf_env/lib/python3.11/site-packages (from roboflow) (1.0.1)\n",
      "Requirement already satisfied: requests in ./leaf_env/lib/python3.11/site-packages (from roboflow) (2.32.3)\n",
      "Requirement already satisfied: six in ./leaf_env/lib/python3.11/site-packages (from roboflow) (1.17.0)\n",
      "Requirement already satisfied: urllib3>=1.26.6 in ./leaf_env/lib/python3.11/site-packages (from roboflow) (2.3.0)\n",
      "Requirement already satisfied: tqdm>=4.41.0 in ./leaf_env/lib/python3.11/site-packages (from roboflow) (4.67.1)\n",
      "Requirement already satisfied: PyYAML>=5.3.1 in ./leaf_env/lib/python3.11/site-packages (from roboflow) (6.0.2)\n",
      "Requirement already satisfied: requests-toolbelt in ./leaf_env/lib/python3.11/site-packages (from roboflow) (1.0.0)\n",
      "Requirement already satisfied: filetype in ./leaf_env/lib/python3.11/site-packages (from roboflow) (1.2.0)\n",
      "Requirement already satisfied: contourpy>=1.0.1 in ./leaf_env/lib/python3.11/site-packages (from matplotlib->roboflow) (1.3.1)\n",
      "Requirement already satisfied: fonttools>=4.22.0 in ./leaf_env/lib/python3.11/site-packages (from matplotlib->roboflow) (4.56.0)\n",
      "Requirement already satisfied: packaging>=20.0 in ./leaf_env/lib/python3.11/site-packages (from matplotlib->roboflow) (24.2)\n",
      "Requirement already satisfied: pyparsing>=2.3.1 in ./leaf_env/lib/python3.11/site-packages (from matplotlib->roboflow) (3.2.1)\n",
      "Requirement already satisfied: charset-normalizer<4,>=2 in ./leaf_env/lib/python3.11/site-packages (from requests->roboflow) (3.4.1)\n",
      "loading Roboflow workspace...\n",
      "loading Roboflow project...\n"
     ]
    },
    {
     "name": "stderr",
     "output_type": "stream",
     "text": [
      "Downloading Dataset Version Zip in leaf_detection-2 to yolov12:: 100%|██████████| 32544/32544 [00:11<00:00, 2904.69it/s]"
     ]
    },
    {
     "name": "stdout",
     "output_type": "stream",
     "text": [
      "\n"
     ]
    },
    {
     "name": "stderr",
     "output_type": "stream",
     "text": [
      "\n",
      "Extracting Dataset Version Zip to leaf_detection-2 in yolov12:: 100%|██████████| 162/162 [00:00<00:00, 7281.62it/s]\n"
     ]
    }
   ],
   "source": [
    "!pip install roboflow\n",
    "\n",
    "from roboflow import Roboflow\n",
    "rf = Roboflow(api_key=\"9MoGKNjyxriFivoPOl2m\")\n",
    "project = rf.workspace(\"signaturedetection-im4xu\").project(\"leaf_detection-fcyc2\")\n",
    "version = project.version(2)\n",
    "dataset = version.download(\"yolov12\")\n",
    "                "
   ]
  },
  {
   "cell_type": "code",
   "execution_count": 2,
   "metadata": {},
   "outputs": [
    {
     "name": "stderr",
     "output_type": "stream",
     "text": [
      "IProgress not found. Please update jupyter and ipywidgets. See https://ipywidgets.readthedocs.io/en/stable/user_install.html\n",
      "ShiftScaleRotate is a special case of Affine transform. Please use Affine transform instead.\n"
     ]
    },
    {
     "name": "stdout",
     "output_type": "stream",
     "text": [
      "Cropping and augmentation completed!\n"
     ]
    }
   ],
   "source": [
    "import os\n",
    "import cv2\n",
    "import shutil\n",
    "import albumentations as A\n",
    "\n",
    "# Define paths\n",
    "dataset_path = \"/home/sourav/workplace/leaf_disease_detection/leaf_detection-2\"  # Update this with your dataset path\n",
    "output_path = \"/home/sourav/workplace/leaf_disease_detection/dataset/cropped_data\"  # Update this with your desired output path\n",
    "dataset_types = [\"train\", \"valid\", \"test\"]\n",
    "\n",
    "# Define augmentation pipelines\n",
    "augmentations = [\n",
    "    A.Compose([\n",
    "        A.HorizontalFlip(p=1.0),\n",
    "        A.RandomBrightnessContrast(p=1.0),\n",
    "        A.Rotate(limit=30, p=1.0),\n",
    "        A.GaussNoise(p=1.0)\n",
    "    ]),\n",
    "    A.Compose([\n",
    "        A.VerticalFlip(p=1.0),\n",
    "        A.ShiftScaleRotate(shift_limit=0.1, scale_limit=0.2, rotate_limit=20, p=1.0),\n",
    "        A.Blur(blur_limit=3, p=1.0)\n",
    "    ]),\n",
    "    A.Compose([\n",
    "        A.CLAHE(p=1.0),\n",
    "        A.ColorJitter(p=1.0),\n",
    "        A.RandomGamma(p=1.0)\n",
    "    ])\n",
    "]\n",
    "\n",
    "# Function to create class-wise directories\n",
    "def create_class_dirs(base_path, class_ids):\n",
    "    for dataset_type in dataset_types:\n",
    "        for class_id in class_ids:\n",
    "            class_dir = os.path.join(base_path, dataset_type, str(class_id))\n",
    "            os.makedirs(class_dir, exist_ok=True)\n",
    "\n",
    "# Function to extract and augment objects\n",
    "def extract_objects():\n",
    "    class_ids = set()\n",
    "    \n",
    "    for dataset_type in dataset_types:\n",
    "        images_path = os.path.join(dataset_path, dataset_type, \"images\")\n",
    "        labels_path = os.path.join(dataset_path, dataset_type, \"labels\")\n",
    "        \n",
    "        for label_file in os.listdir(labels_path):\n",
    "            if not label_file.endswith(\".txt\"):\n",
    "                continue\n",
    "            \n",
    "            image_file = label_file.replace(\".txt\", \".jpg\")  # Change to .png if needed\n",
    "            image_path = os.path.join(images_path, image_file)\n",
    "            label_path = os.path.join(labels_path, label_file)\n",
    "            \n",
    "            if not os.path.exists(image_path):\n",
    "                continue\n",
    "            \n",
    "            image = cv2.imread(image_path)\n",
    "            h, w, _ = image.shape\n",
    "            \n",
    "            with open(label_path, \"r\") as file:\n",
    "                lines = file.readlines()\n",
    "                \n",
    "                for idx, line in enumerate(lines):\n",
    "                    parts = line.strip().split()\n",
    "                    class_id = int(parts[0])\n",
    "                    class_ids.add(class_id)\n",
    "                    x_center, y_center, box_width, box_height = map(float, parts[1:])\n",
    "                    \n",
    "                    # Convert YOLO format to pixel values\n",
    "                    x_min = int((x_center - box_width / 2) * w)\n",
    "                    y_min = int((y_center - box_height / 2) * h)\n",
    "                    x_max = int((x_center + box_width / 2) * w)\n",
    "                    y_max = int((y_center + box_height / 2) * h)\n",
    "                    \n",
    "                    cropped_object = image[y_min:y_max, x_min:x_max]\n",
    "                    \n",
    "                    if cropped_object.size == 0:\n",
    "                        continue\n",
    "                    \n",
    "                    output_dir = os.path.join(output_path, dataset_type, str(class_id))\n",
    "                    os.makedirs(output_dir, exist_ok=True)\n",
    "                    \n",
    "                    output_filename = f\"{image_file.split('.')[0]}_{idx}.jpg\"\n",
    "                    output_filepath = os.path.join(output_dir, output_filename)\n",
    "                    cv2.imwrite(output_filepath, cropped_object)\n",
    "                    \n",
    "                    # Apply multiple augmentations only for class_id 0\n",
    "                    if class_id == 0:\n",
    "                        for aug_idx, aug in enumerate(augmentations):\n",
    "                            augmented = aug(image=cropped_object)\n",
    "                            augmented_image = augmented[\"image\"]\n",
    "                            \n",
    "                            aug_output_filename = f\"{image_file.split('.')[0]}_{idx}_aug{aug_idx}.jpg\"\n",
    "                            aug_output_filepath = os.path.join(output_dir, aug_output_filename)\n",
    "                            cv2.imwrite(aug_output_filepath, augmented_image)\n",
    "                    \n",
    "    print(\"Cropping and augmentation completed!\")\n",
    "    create_class_dirs(output_path, class_ids)\n",
    "\n",
    "# Run extraction and augmentation\n",
    "extract_objects()\n"
   ]
  },
  {
   "cell_type": "code",
   "execution_count": 5,
   "metadata": {},
   "outputs": [
    {
     "data": {
      "text/plain": [
       "853"
      ]
     },
     "execution_count": 5,
     "metadata": {},
     "output_type": "execute_result"
    }
   ],
   "source": [
    "len(os.listdir('/home/sourav/workplace/leaf_disease_detection/dataset/cropped_data/train/1'))"
   ]
  },
  {
   "cell_type": "markdown",
   "metadata": {},
   "source": [
    "## Download to train yolo model to detect healthy leaf and effected leaf \n"
   ]
  },
  {
   "cell_type": "code",
   "execution_count": 7,
   "metadata": {},
   "outputs": [
    {
     "name": "stdout",
     "output_type": "stream",
     "text": [
      "Requirement already satisfied: roboflow in ./leaf_env/lib/python3.11/site-packages (1.1.54)\n",
      "Requirement already satisfied: certifi in ./leaf_env/lib/python3.11/site-packages (from roboflow) (2025.1.31)\n",
      "Requirement already satisfied: idna==3.7 in ./leaf_env/lib/python3.11/site-packages (from roboflow) (3.7)\n",
      "Requirement already satisfied: cycler in ./leaf_env/lib/python3.11/site-packages (from roboflow) (0.12.1)\n",
      "Requirement already satisfied: kiwisolver>=1.3.1 in ./leaf_env/lib/python3.11/site-packages (from roboflow) (1.4.8)\n",
      "Requirement already satisfied: matplotlib in ./leaf_env/lib/python3.11/site-packages (from roboflow) (3.10.0)\n",
      "Requirement already satisfied: numpy>=1.18.5 in ./leaf_env/lib/python3.11/site-packages (from roboflow) (2.2.3)\n",
      "Requirement already satisfied: opencv-python-headless==4.10.0.84 in ./leaf_env/lib/python3.11/site-packages (from roboflow) (4.10.0.84)\n",
      "Requirement already satisfied: Pillow>=7.1.2 in ./leaf_env/lib/python3.11/site-packages (from roboflow) (11.1.0)\n",
      "Requirement already satisfied: python-dateutil in ./leaf_env/lib/python3.11/site-packages (from roboflow) (2.9.0.post0)\n",
      "Requirement already satisfied: python-dotenv in ./leaf_env/lib/python3.11/site-packages (from roboflow) (1.0.1)\n",
      "Requirement already satisfied: requests in ./leaf_env/lib/python3.11/site-packages (from roboflow) (2.32.3)\n",
      "Requirement already satisfied: six in ./leaf_env/lib/python3.11/site-packages (from roboflow) (1.17.0)\n",
      "Requirement already satisfied: urllib3>=1.26.6 in ./leaf_env/lib/python3.11/site-packages (from roboflow) (2.3.0)\n",
      "Requirement already satisfied: tqdm>=4.41.0 in ./leaf_env/lib/python3.11/site-packages (from roboflow) (4.67.1)\n",
      "Requirement already satisfied: PyYAML>=5.3.1 in ./leaf_env/lib/python3.11/site-packages (from roboflow) (6.0.2)\n",
      "Requirement already satisfied: requests-toolbelt in ./leaf_env/lib/python3.11/site-packages (from roboflow) (1.0.0)\n",
      "Requirement already satisfied: filetype in ./leaf_env/lib/python3.11/site-packages (from roboflow) (1.2.0)\n",
      "Requirement already satisfied: contourpy>=1.0.1 in ./leaf_env/lib/python3.11/site-packages (from matplotlib->roboflow) (1.3.1)\n",
      "Requirement already satisfied: fonttools>=4.22.0 in ./leaf_env/lib/python3.11/site-packages (from matplotlib->roboflow) (4.56.0)\n",
      "Requirement already satisfied: packaging>=20.0 in ./leaf_env/lib/python3.11/site-packages (from matplotlib->roboflow) (24.2)\n",
      "Requirement already satisfied: pyparsing>=2.3.1 in ./leaf_env/lib/python3.11/site-packages (from matplotlib->roboflow) (3.2.1)\n",
      "Requirement already satisfied: charset-normalizer<4,>=2 in ./leaf_env/lib/python3.11/site-packages (from requests->roboflow) (3.4.1)\n",
      "loading Roboflow workspace...\n",
      "loading Roboflow project...\n"
     ]
    },
    {
     "name": "stderr",
     "output_type": "stream",
     "text": [
      "Downloading Dataset Version Zip in leaf_detection-4 to yolov12:: 100%|██████████| 19039/19039 [00:06<00:00, 2862.07it/s]"
     ]
    },
    {
     "name": "stdout",
     "output_type": "stream",
     "text": [
      "\n"
     ]
    },
    {
     "name": "stderr",
     "output_type": "stream",
     "text": [
      "\n",
      "Extracting Dataset Version Zip to leaf_detection-4 in yolov12:: 100%|██████████| 402/402 [00:00<00:00, 18869.37it/s]\n"
     ]
    }
   ],
   "source": [
    "!pip install roboflow\n",
    "\n",
    "from roboflow import Roboflow\n",
    "rf = Roboflow(api_key=\"9MoGKNjyxriFivoPOl2m\")\n",
    "project = rf.workspace(\"signaturedetection-im4xu\").project(\"leaf_detection-fcyc2\")\n",
    "version = project.version(4)\n",
    "dataset = version.download(\"yolov12\")\n",
    "                "
   ]
  },
  {
   "cell_type": "markdown",
   "metadata": {},
   "source": [
    "## Download to train yolo model to detect only leaf and soil\n",
    " \n"
   ]
  },
  {
   "cell_type": "code",
   "execution_count": 1,
   "metadata": {},
   "outputs": [
    {
     "name": "stdout",
     "output_type": "stream",
     "text": [
      "Requirement already satisfied: roboflow in ./leaf_env/lib/python3.11/site-packages (1.1.54)\n",
      "Requirement already satisfied: certifi in ./leaf_env/lib/python3.11/site-packages (from roboflow) (2025.1.31)\n",
      "Requirement already satisfied: idna==3.7 in ./leaf_env/lib/python3.11/site-packages (from roboflow) (3.7)\n",
      "Requirement already satisfied: cycler in ./leaf_env/lib/python3.11/site-packages (from roboflow) (0.12.1)\n",
      "Requirement already satisfied: kiwisolver>=1.3.1 in ./leaf_env/lib/python3.11/site-packages (from roboflow) (1.4.8)\n",
      "Requirement already satisfied: matplotlib in ./leaf_env/lib/python3.11/site-packages (from roboflow) (3.10.0)\n",
      "Requirement already satisfied: numpy>=1.18.5 in ./leaf_env/lib/python3.11/site-packages (from roboflow) (2.2.3)\n",
      "Requirement already satisfied: opencv-python-headless==4.10.0.84 in ./leaf_env/lib/python3.11/site-packages (from roboflow) (4.10.0.84)\n",
      "Requirement already satisfied: Pillow>=7.1.2 in ./leaf_env/lib/python3.11/site-packages (from roboflow) (11.1.0)\n",
      "Requirement already satisfied: python-dateutil in ./leaf_env/lib/python3.11/site-packages (from roboflow) (2.9.0.post0)\n",
      "Requirement already satisfied: python-dotenv in ./leaf_env/lib/python3.11/site-packages (from roboflow) (1.0.1)\n",
      "Requirement already satisfied: requests in ./leaf_env/lib/python3.11/site-packages (from roboflow) (2.32.3)\n",
      "Requirement already satisfied: six in ./leaf_env/lib/python3.11/site-packages (from roboflow) (1.17.0)\n",
      "Requirement already satisfied: urllib3>=1.26.6 in ./leaf_env/lib/python3.11/site-packages (from roboflow) (2.3.0)\n",
      "Requirement already satisfied: tqdm>=4.41.0 in ./leaf_env/lib/python3.11/site-packages (from roboflow) (4.67.1)\n",
      "Requirement already satisfied: PyYAML>=5.3.1 in ./leaf_env/lib/python3.11/site-packages (from roboflow) (6.0.2)\n",
      "Requirement already satisfied: requests-toolbelt in ./leaf_env/lib/python3.11/site-packages (from roboflow) (1.0.0)\n",
      "Requirement already satisfied: filetype in ./leaf_env/lib/python3.11/site-packages (from roboflow) (1.2.0)\n",
      "Requirement already satisfied: contourpy>=1.0.1 in ./leaf_env/lib/python3.11/site-packages (from matplotlib->roboflow) (1.3.1)\n",
      "Requirement already satisfied: fonttools>=4.22.0 in ./leaf_env/lib/python3.11/site-packages (from matplotlib->roboflow) (4.56.0)\n",
      "Requirement already satisfied: packaging>=20.0 in ./leaf_env/lib/python3.11/site-packages (from matplotlib->roboflow) (24.2)\n",
      "Requirement already satisfied: pyparsing>=2.3.1 in ./leaf_env/lib/python3.11/site-packages (from matplotlib->roboflow) (3.2.1)\n",
      "Requirement already satisfied: charset-normalizer<4,>=2 in ./leaf_env/lib/python3.11/site-packages (from requests->roboflow) (3.4.1)\n",
      "loading Roboflow workspace...\n",
      "loading Roboflow project...\n"
     ]
    },
    {
     "name": "stderr",
     "output_type": "stream",
     "text": [
      "Downloading Dataset Version Zip in leaf_detection-5 to yolov12:: 100%|██████████| 19055/19055 [00:06<00:00, 2868.79it/s]"
     ]
    },
    {
     "name": "stdout",
     "output_type": "stream",
     "text": [
      "\n"
     ]
    },
    {
     "name": "stderr",
     "output_type": "stream",
     "text": [
      "\n",
      "Extracting Dataset Version Zip to leaf_detection-5 in yolov12:: 100%|██████████| 402/402 [00:00<00:00, 19811.19it/s]\n"
     ]
    }
   ],
   "source": [
    "!pip install roboflow\n",
    "\n",
    "from roboflow import Roboflow\n",
    "rf = Roboflow(api_key=\"9MoGKNjyxriFivoPOl2m\")\n",
    "project = rf.workspace(\"signaturedetection-im4xu\").project(\"leaf_detection-fcyc2\")\n",
    "version = project.version(5)\n",
    "dataset = version.download(\"yolov12\")\n",
    "                "
   ]
  },
  {
   "cell_type": "code",
   "execution_count": 6,
   "metadata": {},
   "outputs": [
    {
     "name": "stdout",
     "output_type": "stream",
     "text": [
      "\n",
      "0: 640x640 4 borers, 12 healthys, 4.5ms\n",
      "Speed: 0.9ms preprocess, 4.5ms inference, 0.6ms postprocess per image at shape (1, 3, 640, 640)\n",
      "Inference completed. Output saved at /home/sourav/workplace/leaf_disease_detection/dataset/test_image/output.jpg\n"
     ]
    }
   ],
   "source": [
    "from ultralytics import YOLO\n",
    "import cv2\n",
    "import torch\n",
    "import random\n",
    "\n",
    "# Load the trained model\n",
    "model = YOLO(\"/home/sourav/workplace/leaf_disease_detection/runs/detect/train/weights/best.pt\")  # Replace with your checkpoint path\n",
    "\n",
    "# Set device (GPU if available, else CPU)\n",
    "device = 'cuda' if torch.cuda.is_available() else 'cpu'\n",
    "model.to(device)\n",
    "\n",
    "# Load an image for inference\n",
    "image_path = \"/home/sourav/workplace/leaf_disease_detection/dataset/healthy_vs_disease/test/images/frame_1_0038_jpg.rf.3dcf3a605a62e72587edeac3f404690d.jpg\"  # Replace with your image path\n",
    "image = cv2.imread(image_path)\n",
    "\n",
    "# Generate random colors for each class\n",
    "num_classes = len(model.names)\n",
    "class_colors = {i: (random.randint(0, 255), random.randint(0, 255), random.randint(0, 255)) for i in range(num_classes)}\n",
    "\n",
    "# Perform inference\n",
    "results = model(image)\n",
    "\n",
    "# Process results\n",
    "for result in results:\n",
    "    for box in result.boxes:\n",
    "        x1, y1, x2, y2 = box.xyxy[0].tolist()  # Bounding box coordinates\n",
    "        conf = box.conf[0].item()  # Confidence score\n",
    "        cls = int(box.cls[0].item())  # Class ID\n",
    "        \n",
    "        # Assign a color based on the class\n",
    "        color = class_colors.get(cls, (0, 255, 0))\n",
    "        \n",
    "        # Draw bounding box on the image\n",
    "        cv2.rectangle(image, (int(x1), int(y1)), (int(x2), int(y2)), color, 2)\n",
    "        label = f\"{model.names[cls]}: {conf:.2f}\"\n",
    "        cv2.putText(image, label, (int(x1), int(y1) - 10), cv2.FONT_HERSHEY_SIMPLEX, 0.5, color, 2)\n",
    "\n",
    "# Save or display the output\n",
    "output_path = \"/home/sourav/workplace/leaf_disease_detection/dataset/test_image/output.jpg\"\n",
    "cv2.imwrite(output_path, image)\n",
    "# cv2.imshow(\"YOLOv12 Inference\", image)\n",
    "# cv2.waitKey(0)\n",
    "# cv2.destroyAllWindows()\n",
    "\n",
    "print(f\"Inference completed. Output saved at {output_path}\")\n"
   ]
  },
  {
   "cell_type": "code",
   "execution_count": null,
   "metadata": {},
   "outputs": [],
   "source": []
  }
 ],
 "metadata": {
  "kernelspec": {
   "display_name": "leaf_env",
   "language": "python",
   "name": "python3"
  },
  "language_info": {
   "codemirror_mode": {
    "name": "ipython",
    "version": 3
   },
   "file_extension": ".py",
   "mimetype": "text/x-python",
   "name": "python",
   "nbconvert_exporter": "python",
   "pygments_lexer": "ipython3",
   "version": "3.11.2"
  }
 },
 "nbformat": 4,
 "nbformat_minor": 2
}
